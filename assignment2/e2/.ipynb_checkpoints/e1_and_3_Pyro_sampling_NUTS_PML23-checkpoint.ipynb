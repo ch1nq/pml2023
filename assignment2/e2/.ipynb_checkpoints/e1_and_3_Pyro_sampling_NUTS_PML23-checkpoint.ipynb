{
 "cells": [
  {
   "cell_type": "code",
   "execution_count": null,
   "metadata": {
    "id": "ZsCzT0N_P-Ne"
   },
   "outputs": [],
   "source": [
    "!pip3 install pyro-ppl\n",
    "!pip3 install sklearn\n",
    "!pip3 install arviz\n",
    "!pip3 install numpy\n",
    "!pip3 install matplotlib"
   ]
  },
  {
   "cell_type": "code",
   "execution_count": 19,
   "metadata": {
    "id": "OgyIY4sQP3HO"
   },
   "outputs": [],
   "source": [
    "import pyro\n",
    "import torch\n",
    "import pyro.distributions as pdist\n",
    "import torch.distributions as tdist\n",
    "import arviz\n",
    "import numpy as np\n",
    "import matplotlib.pyplot as plt\n",
    "import seaborn as sns\n",
    "import pandas as pd\n",
    "import scipy.stats\n",
    "import tqdm"
   ]
  },
  {
   "cell_type": "markdown",
   "metadata": {},
   "source": [
    "# Exercise1"
   ]
  },
  {
   "cell_type": "code",
   "execution_count": 25,
   "metadata": {},
   "outputs": [],
   "source": [
    "np.random.seed(0)\n",
    "sns.set_theme()\n",
    "palette = sns.color_palette()\n",
    "\n",
    "def p_density(x):\n",
    "    return np.exp(-(x**2) / 2) * (\n",
    "        np.sin(x) ** 2 + 3 * np.cos(x) ** 2 * np.sin(7 * x) ** 2 + 1\n",
    "    )\n",
    "\n",
    "\n",
    "def rejection_sample(q_density, x_func, k=1, n_samples=1000) -> np.ndarray:\n",
    "    samples = np.zeros((n_samples))\n",
    "    for i in range(n_samples):\n",
    "        ratio = 0\n",
    "        u = 1\n",
    "        while ratio < u:\n",
    "            u = np.random.uniform(0, 1)\n",
    "            x = x_func()\n",
    "            ratio = p_density(x) / (k * q_density(x))\n",
    "        samples[i] = x\n",
    "    return samples\n",
    "\n",
    "\n",
    "# Self-normalized importance sampling\n",
    "def importance_sample(q: scipy.stats.norm, n_samples=1000):\n",
    "    xs = q.rvs(size=n_samples)\n",
    "    q_samples = q.pdf(xs)\n",
    "    p_samples = p_density(xs)\n",
    "    w = (p_samples / q_samples) / np.sum(p_samples / q_samples)\n",
    "    return np.sum(w * (xs**2))"
   ]
  },
  {
   "cell_type": "code",
   "execution_count": 38,
   "metadata": {},
   "outputs": [],
   "source": [
    "def plot_densities(methods):\n",
    "    method_name, method = list(methods.items())[1]\n",
    "    xs = np.linspace(-3, 3, 1000)\n",
    "    sns.lineplot(\n",
    "        x=xs,\n",
    "        y=scipy.stats.norm.pdf(xs) * k_normal,\n",
    "        label=f\"Normal envelope ($k={k_normal}$)\",\n",
    "    )\n",
    "    sns.lineplot(\n",
    "        x=xs,\n",
    "        y=scipy.stats.uniform.pdf(xs, loc=-3, scale=6) * k_uniform,\n",
    "        label=f\"Uniform envelope ($k={k_uniform}$)\",\n",
    "    )\n",
    "    sns.lineplot(\n",
    "        x=np.linspace(-3, 3, 1000),\n",
    "        y=p_density(np.linspace(-3, 3, 1000)),\n",
    "        label=\"$p(x)$\",\n",
    "        color=palette[1],\n",
    "    )\n",
    "    samples = method(10000)\n",
    "    sns.histplot(samples, stat=\"density\", label=\"Samples\", bins=100, color=palette[4])\n",
    "    plt.savefig(\"figs/e1-reject.png\")\n",
    "    plt.clf()\n",
    "    plt.show()"
   ]
  },
  {
   "cell_type": "markdown",
   "metadata": {},
   "source": [
    "# Exercise3"
   ]
  },
  {
   "cell_type": "code",
   "execution_count": 3,
   "metadata": {
    "id": "WNZIrtQjQH9J"
   },
   "outputs": [],
   "source": [
    "from torch.distributions import constraints\n",
    "\n",
    "class MyDensity(pdist.TorchDistribution):\n",
    "    # The integration interval\n",
    "    support = constraints.interval(torch.tensor(-3), torch.tensor(3))\n",
    "    arg_constraints = {\"start\": support}\n",
    "\n",
    "    def __init__(self, start=torch.tensor(0.0)):\n",
    "      self.start = start\n",
    "      super(pdist.TorchDistribution, self).__init__()\n",
    "\n",
    "    def sample(self, sample_shape=torch.Size()):\n",
    "        return self.start\n",
    "\n",
    "    def log_prob(self, x):\n",
    "        # Return log of the (unnormalized) density\n",
    "        #return torch.exp(-x**2/2) * ((torch.sin(x))**2 + 3 * (torch.cos(x))**2 * (torch.sin(7 * x))**2 + 1)\n",
    "        return -x**2 / 2 + torch.log(((torch.sin(x))**2 + 3 * (torch.cos(x))**2 * (torch.sin(7 * x))**2 + 1))"
   ]
  },
  {
   "cell_type": "code",
   "execution_count": 4,
   "metadata": {
    "id": "DajD-BVQQbtO"
   },
   "outputs": [],
   "source": [
    "def model():\n",
    "    x=pyro.sample(\"x\", MyDensity())"
   ]
  },
  {
   "cell_type": "code",
   "execution_count": 5,
   "metadata": {
    "id": "B8J_f9oXQhIR"
   },
   "outputs": [
    {
     "name": "stderr",
     "output_type": "stream",
     "text": [
      "Sample: 100%|███████████████████████████████████████| 1500/1500 [00:04, 349.78it/s, step size=1.40e-01, acc. prob=0.910]                                           \n"
     ]
    }
   ],
   "source": [
    "# Run HMC / NUTS\n",
    "nuts_kernel = pyro.infer.NUTS(model)\n",
    "mcmc = pyro.infer.MCMC(nuts_kernel, num_samples=1000, num_chains=1, warmup_steps=500)\n",
    "mcmc.run()"
   ]
  },
  {
   "cell_type": "code",
   "execution_count": 6,
   "metadata": {
    "id": "WnMdA0BXQtld"
   },
   "outputs": [
    {
     "name": "stdout",
     "output_type": "stream",
     "text": [
      "1.1181451082229614\n"
     ]
    }
   ],
   "source": [
    "# Get the samples\n",
    "samples = mcmc.get_samples()[\"x\"]\n",
    "\n",
    "# Calculate E(x^2)\n",
    "print(torch.mean(samples**2).item())"
   ]
  },
  {
   "cell_type": "code",
   "execution_count": 39,
   "metadata": {
    "id": "6TSB51sLQ4eb"
   },
   "outputs": [
    {
     "name": "stderr",
     "output_type": "stream",
     "text": [
      "arviz - WARNING - Shape validation failed: input_shape: (1, 1000), minimum_shape: (chains=2, draws=4)\n"
     ]
    },
    {
     "name": "stdout",
     "output_type": "stream",
     "text": [
      "    mean     sd  hdi_3%  hdi_97%  mcse_mean  mcse_sd  ess_bulk  ess_tail  \\\n",
      "x  0.053  1.057  -2.062    1.889      0.104    0.074     105.0      77.0   \n",
      "\n",
      "   r_hat  \n",
      "x    NaN  \n"
     ]
    },
    {
     "data": {
      "image/png": "[encoded data removed]",
      "text/plain": [
       "<Figure size 640x480 with 1 Axes>"
      ]
     },
     "metadata": {},
     "output_type": "display_data"
    }
   ],
   "source": [
    "data = arviz.from_pyro(mcmc)\n",
    "summary = arviz.summary(data)\n",
    "\n",
    "print(summary)\n",
    "arviz.plot_posterior(data)\n",
    "plt.savefig('figs/e3.png')\n",
    "plt.show()"
   ]
  },
  {
   "cell_type": "code",
   "execution_count": 35,
   "metadata": {
    "id": "H4Igci_SRLD3"
   },
   "outputs": [],
   "source": [
    "def HMC(n_samples):\n",
    "    print(n_samples)\n",
    "    # Run HMC / NUTS\n",
    "    nuts_kernel = pyro.infer.NUTS(model)\n",
    "    mcmc = pyro.infer.MCMC(nuts_kernel, num_samples=n_samples, num_chains=1, warmup_steps=500)\n",
    "    mcmc.run()\n",
    "    \n",
    "    # Get the samples\n",
    "    samples = mcmc.get_samples()[\"x\"]\n",
    "\n",
    "    # Calculate E(x^2)\n",
    "    return (torch.mean(samples**2).item())"
   ]
  },
  {
   "cell_type": "markdown",
   "metadata": {},
   "source": [
    "# Plot everything"
   ]
  },
  {
   "cell_type": "code",
   "execution_count": 36,
   "metadata": {},
   "outputs": [],
   "source": [
    "k_uniform = 23\n",
    "k_normal = 10\n",
    "\n",
    "# Estimate E[x^2] by rejection sample x in in [-3, 3]\n",
    "methods = {\n",
    "    \"RS normal\": lambda n: rejection_sample(\n",
    "        scipy.stats.norm.pdf, np.random.normal, k=k_normal, n_samples=n\n",
    "    ),\n",
    "    \"RS uniform\": lambda n: rejection_sample(\n",
    "        lambda x: scipy.stats.uniform.pdf(x, loc=-3, scale=6),\n",
    "        lambda: np.random.uniform(-3, 3),\n",
    "        k=k_uniform,\n",
    "        n_samples=n,\n",
    "    ),\n",
    "    \"HMC\": lambda n: HMC(n)\n",
    "}"
   ]
  },
  {
   "cell_type": "code",
   "execution_count": 37,
   "metadata": {},
   "outputs": [
    {
     "data": {
      "text/plain": [
       "<Figure size 640x480 with 0 Axes>"
      ]
     },
     "metadata": {},
     "output_type": "display_data"
    }
   ],
   "source": [
    "plot_densities(methods)"
   ]
  },
  {
   "cell_type": "code",
   "execution_count": 41,
   "metadata": {},
   "outputs": [
    {
     "name": "stderr",
     "output_type": "stream",
     "text": [
      "\n",
      "  0%|                                                                                                                                       | 0/10 [00:00<?, ?it/s]\u001b[A/var/folders/3m/t5ftv_1d5tj5szs3txjmqx7w0000gn/T/ipykernel_12156/4002549357.py:12: FutureWarning: The behavior of DataFrame concatenation with empty or all-NA entries is deprecated. In a future version, this will no longer exclude empty or all-NA columns when determining the result dtypes. To retain the old behavior, exclude the relevant entries before the concat operation.\n",
      "  data = pd.concat([data, row], ignore_index=True)\n"
     ]
    },
    {
     "name": "stdout",
     "output_type": "stream",
     "text": [
      "10\n"
     ]
    },
    {
     "name": "stderr",
     "output_type": "stream",
     "text": [
      "Sample: 100%|█████████████████████████████████████████| 510/510 [00:01, 476.50it/s, step size=1.34e-01, acc. prob=0.952]                                           \n"
     ]
    },
    {
     "name": "stdout",
     "output_type": "stream",
     "text": [
      "100\n"
     ]
    },
    {
     "name": "stderr",
     "output_type": "stream",
     "text": [
      "Sample: 100%|█████████████████████████████████████████| 600/600 [00:01, 423.48it/s, step size=1.45e-01, acc. prob=0.816]                                           \n"
     ]
    },
    {
     "name": "stdout",
     "output_type": "stream",
     "text": [
      "1000\n"
     ]
    },
    {
     "name": "stderr",
     "output_type": "stream",
     "text": [
      "Sample: 100%|███████████████████████████████████████| 1500/1500 [00:03, 386.31it/s, step size=1.71e-01, acc. prob=0.917]                                           \n",
      "\n",
      " 10%|████████████▋                                                                                                                  | 1/10 [00:06<00:59,  6.65s/it]\u001b[A"
     ]
    },
    {
     "name": "stdout",
     "output_type": "stream",
     "text": [
      "10\n"
     ]
    },
    {
     "name": "stderr",
     "output_type": "stream",
     "text": [
      "Sample: 100%|█████████████████████████████████████████| 510/510 [00:01, 375.80it/s, step size=2.64e-01, acc. prob=0.820]                                           \n"
     ]
    },
    {
     "name": "stdout",
     "output_type": "stream",
     "text": [
      "100\n"
     ]
    },
    {
     "name": "stderr",
     "output_type": "stream",
     "text": [
      "Sample: 100%|█████████████████████████████████████████| 600/600 [00:01, 468.27it/s, step size=1.01e-01, acc. prob=0.907]                                           \n"
     ]
    },
    {
     "name": "stdout",
     "output_type": "stream",
     "text": [
      "1000\n"
     ]
    },
    {
     "name": "stderr",
     "output_type": "stream",
     "text": [
      "Sample: 100%|███████████████████████████████████████| 1500/1500 [00:03, 407.71it/s, step size=1.31e-01, acc. prob=0.922]                                           \n",
      "\n",
      " 20%|█████████████████████████▍                                                                                                     | 2/10 [00:13<00:52,  6.62s/it]\u001b[A"
     ]
    },
    {
     "name": "stdout",
     "output_type": "stream",
     "text": [
      "10\n"
     ]
    },
    {
     "name": "stderr",
     "output_type": "stream",
     "text": [
      "Sample: 100%|█████████████████████████████████████████| 510/510 [00:01, 387.94it/s, step size=1.48e-01, acc. prob=0.552]                                           \n"
     ]
    },
    {
     "name": "stdout",
     "output_type": "stream",
     "text": [
      "100\n"
     ]
    },
    {
     "name": "stderr",
     "output_type": "stream",
     "text": [
      "Sample: 100%|█████████████████████████████████████████| 600/600 [00:01, 404.32it/s, step size=1.97e-01, acc. prob=0.818]                                           \n"
     ]
    },
    {
     "name": "stdout",
     "output_type": "stream",
     "text": [
      "1000\n"
     ]
    },
    {
     "name": "stderr",
     "output_type": "stream",
     "text": [
      "Sample: 100%|███████████████████████████████████████| 1500/1500 [00:03, 428.26it/s, step size=1.18e-01, acc. prob=0.840]                                           \n",
      "\n",
      " 30%|██████████████████████████████████████                                                                                         | 3/10 [00:19<00:46,  6.60s/it]\u001b[A"
     ]
    },
    {
     "name": "stdout",
     "output_type": "stream",
     "text": [
      "10\n"
     ]
    },
    {
     "name": "stderr",
     "output_type": "stream",
     "text": [
      "Sample: 100%|█████████████████████████████████████████| 510/510 [00:01, 396.98it/s, step size=1.90e-01, acc. prob=0.810]                                           \n"
     ]
    },
    {
     "name": "stdout",
     "output_type": "stream",
     "text": [
      "100\n"
     ]
    },
    {
     "name": "stderr",
     "output_type": "stream",
     "text": [
      "Sample: 100%|█████████████████████████████████████████| 600/600 [00:01, 437.51it/s, step size=1.87e-01, acc. prob=0.791]                                           \n"
     ]
    },
    {
     "name": "stdout",
     "output_type": "stream",
     "text": [
      "1000\n"
     ]
    },
    {
     "name": "stderr",
     "output_type": "stream",
     "text": [
      "Sample: 100%|███████████████████████████████████████| 1500/1500 [00:03, 406.00it/s, step size=1.48e-01, acc. prob=0.878]                                           \n",
      "\n",
      " 40%|██████████████████████████████████████████████████▊                                                                            | 4/10 [00:26<00:39,  6.60s/it]\u001b[A"
     ]
    },
    {
     "name": "stdout",
     "output_type": "stream",
     "text": [
      "10\n"
     ]
    },
    {
     "name": "stderr",
     "output_type": "stream",
     "text": [
      "Sample: 100%|█████████████████████████████████████████| 510/510 [00:01, 442.85it/s, step size=1.73e-01, acc. prob=0.928]                                           \n"
     ]
    },
    {
     "name": "stdout",
     "output_type": "stream",
     "text": [
      "100\n"
     ]
    },
    {
     "name": "stderr",
     "output_type": "stream",
     "text": [
      "Sample: 100%|█████████████████████████████████████████| 600/600 [00:01, 444.67it/s, step size=2.10e-01, acc. prob=0.760]                                           \n"
     ]
    },
    {
     "name": "stdout",
     "output_type": "stream",
     "text": [
      "1000\n"
     ]
    },
    {
     "name": "stderr",
     "output_type": "stream",
     "text": [
      "Sample: 100%|███████████████████████████████████████| 1500/1500 [00:03, 473.69it/s, step size=2.84e-01, acc. prob=0.730]                                           \n",
      "\n",
      " 50%|███████████████████████████████████████████████████████████████▌                                                               | 5/10 [00:32<00:31,  6.36s/it]\u001b[A"
     ]
    },
    {
     "name": "stdout",
     "output_type": "stream",
     "text": [
      "10\n"
     ]
    },
    {
     "name": "stderr",
     "output_type": "stream",
     "text": [
      "Sample: 100%|█████████████████████████████████████████| 510/510 [00:01, 407.13it/s, step size=2.15e-01, acc. prob=0.833]                                           \n"
     ]
    },
    {
     "name": "stdout",
     "output_type": "stream",
     "text": [
      "100\n"
     ]
    },
    {
     "name": "stderr",
     "output_type": "stream",
     "text": [
      "Sample: 100%|█████████████████████████████████████████| 600/600 [00:01, 463.58it/s, step size=1.76e-01, acc. prob=0.804]                                           \n"
     ]
    },
    {
     "name": "stdout",
     "output_type": "stream",
     "text": [
      "1000\n"
     ]
    },
    {
     "name": "stderr",
     "output_type": "stream",
     "text": [
      "Sample: 100%|███████████████████████████████████████| 1500/1500 [00:03, 411.79it/s, step size=1.40e-01, acc. prob=0.904]                                           \n",
      "\n",
      " 60%|████████████████████████████████████████████████████████████████████████████▏                                                  | 6/10 [00:38<00:25,  6.38s/it]\u001b[A"
     ]
    },
    {
     "name": "stdout",
     "output_type": "stream",
     "text": [
      "10\n"
     ]
    },
    {
     "name": "stderr",
     "output_type": "stream",
     "text": [
      "Sample: 100%|█████████████████████████████████████████| 510/510 [00:01, 414.82it/s, step size=1.95e-01, acc. prob=0.807]                                           \n"
     ]
    },
    {
     "name": "stdout",
     "output_type": "stream",
     "text": [
      "100\n"
     ]
    },
    {
     "name": "stderr",
     "output_type": "stream",
     "text": [
      "Sample: 100%|█████████████████████████████████████████| 600/600 [00:01, 468.01it/s, step size=1.90e-01, acc. prob=0.772]                                           \n"
     ]
    },
    {
     "name": "stdout",
     "output_type": "stream",
     "text": [
      "1000\n"
     ]
    },
    {
     "name": "stderr",
     "output_type": "stream",
     "text": [
      "Sample: 100%|███████████████████████████████████████| 1500/1500 [00:03, 434.17it/s, step size=2.16e-01, acc. prob=0.865]                                           \n",
      "\n",
      " 70%|████████████████████████████████████████████████████████████████████████████████████████▉                                      | 7/10 [00:45<00:19,  6.34s/it]\u001b[A"
     ]
    },
    {
     "name": "stdout",
     "output_type": "stream",
     "text": [
      "10\n"
     ]
    },
    {
     "name": "stderr",
     "output_type": "stream",
     "text": [
      "Sample: 100%|█████████████████████████████████████████| 510/510 [00:01, 426.03it/s, step size=1.89e-01, acc. prob=0.724]                                           \n"
     ]
    },
    {
     "name": "stdout",
     "output_type": "stream",
     "text": [
      "100\n"
     ]
    },
    {
     "name": "stderr",
     "output_type": "stream",
     "text": [
      "Sample: 100%|█████████████████████████████████████████| 600/600 [00:01, 460.37it/s, step size=1.11e-01, acc. prob=0.839]                                           \n"
     ]
    },
    {
     "name": "stdout",
     "output_type": "stream",
     "text": [
      "1000\n"
     ]
    },
    {
     "name": "stderr",
     "output_type": "stream",
     "text": [
      "Sample: 100%|███████████████████████████████████████| 1500/1500 [00:03, 461.07it/s, step size=2.63e-01, acc. prob=0.767]                                           \n",
      "\n",
      " 80%|█████████████████████████████████████████████████████████████████████████████████████████████████████▌                         | 8/10 [00:51<00:12,  6.24s/it]\u001b[A"
     ]
    },
    {
     "name": "stdout",
     "output_type": "stream",
     "text": [
      "10\n"
     ]
    },
    {
     "name": "stderr",
     "output_type": "stream",
     "text": [
      "Sample: 100%|█████████████████████████████████████████| 510/510 [00:01, 422.73it/s, step size=1.67e-01, acc. prob=0.794]                                           \n"
     ]
    },
    {
     "name": "stdout",
     "output_type": "stream",
     "text": [
      "100\n"
     ]
    },
    {
     "name": "stderr",
     "output_type": "stream",
     "text": [
      "Sample: 100%|█████████████████████████████████████████| 600/600 [00:01, 398.39it/s, step size=1.04e-01, acc. prob=0.927]                                           \n"
     ]
    },
    {
     "name": "stdout",
     "output_type": "stream",
     "text": [
      "1000\n"
     ]
    },
    {
     "name": "stderr",
     "output_type": "stream",
     "text": [
      "Sample: 100%|███████████████████████████████████████| 1500/1500 [00:03, 421.74it/s, step size=1.57e-01, acc. prob=0.861]                                           \n",
      "\n",
      " 90%|██████████████████████████████████████████████████████████████████████████████████████████████████████████████████▎            | 9/10 [00:57<00:06,  6.34s/it]\u001b[A"
     ]
    },
    {
     "name": "stdout",
     "output_type": "stream",
     "text": [
      "10\n"
     ]
    },
    {
     "name": "stderr",
     "output_type": "stream",
     "text": [
      "Sample: 100%|█████████████████████████████████████████| 510/510 [00:01, 378.49it/s, step size=1.68e-01, acc. prob=0.676]                                           \n"
     ]
    },
    {
     "name": "stdout",
     "output_type": "stream",
     "text": [
      "100\n"
     ]
    },
    {
     "name": "stderr",
     "output_type": "stream",
     "text": [
      "Sample: 100%|█████████████████████████████████████████| 600/600 [00:01, 393.69it/s, step size=1.65e-01, acc. prob=0.771]                                           \n"
     ]
    },
    {
     "name": "stdout",
     "output_type": "stream",
     "text": [
      "1000\n"
     ]
    },
    {
     "name": "stderr",
     "output_type": "stream",
     "text": [
      "Sample: 100%|███████████████████████████████████████| 1500/1500 [00:03, 400.91it/s, step size=1.06e-01, acc. prob=0.827]                                           \n",
      "\n",
      "100%|██████████████████████████████████████████████████████████████████████████████████████████████████████████████████████████████| 10/10 [01:04<00:00,  6.45s/it]\u001b[A\n"
     ]
    },
    {
     "name": "stdout",
     "output_type": "stream",
     "text": [
      "                      estimate\n",
      "proposal   n_samples          \n",
      "HMC        10         0.426187\n",
      "           100        0.781449\n",
      "           1000       0.928389\n",
      "IS normal  10         0.905594\n",
      "           100        0.893813\n",
      "           1000       0.916728\n",
      "RS normal  10         0.914293\n",
      "           100        0.996311\n",
      "           1000       0.935988\n",
      "RS uniform 10         1.014371\n",
      "           100        0.869217\n",
      "           1000       0.920134\n",
      "                      estimate\n",
      "proposal   n_samples          \n",
      "HMC        10         0.586384\n",
      "           100        0.195113\n",
      "           1000       0.114704\n",
      "IS normal  10         0.462499\n",
      "           100        0.100309\n",
      "           1000       0.042745\n",
      "RS normal  10         0.265726\n",
      "           100        0.119718\n",
      "           1000       0.019828\n",
      "RS uniform 10         0.213612\n",
      "           100        0.122503\n",
      "           1000       0.049884\n",
      "Actual: 0.870506326086464\n",
      "IS:  1.0047795421307473\n"
     ]
    },
    {
     "data": {
      "text/plain": [
       "<Figure size 640x480 with 0 Axes>"
      ]
     },
     "metadata": {},
     "output_type": "display_data"
    }
   ],
   "source": [
    "n_estimates = 10\n",
    "data = pd.DataFrame(columns=[\"proposal\", \"n_samples\", \"estimate\"])\n",
    "for _ in tqdm.trange(n_estimates):\n",
    "    for n_samples in (10, 100, 1000):\n",
    "        for name, sample_method in methods.items():\n",
    "            samples = sample_method(n_samples)\n",
    "            estimate = samples if name==\"HMC\" else np.mean(samples**2)\n",
    "            \n",
    "            row = pd.DataFrame(\n",
    "                {\"proposal\": name, \"n_samples\": n_samples, \"estimate\": estimate},\n",
    "                index=[0],\n",
    "            )\n",
    "            data = pd.concat([data, row], ignore_index=True)\n",
    "            \n",
    "        row = pd.DataFrame(\n",
    "            {\n",
    "                \"proposal\": \"IS normal\",\n",
    "                \"n_samples\": n_samples,\n",
    "                \"estimate\": importance_sample(scipy.stats.norm, n_samples=n_samples),\n",
    "            },\n",
    "            index=[0],\n",
    "        )\n",
    "        \n",
    "        data = pd.concat([data, row], ignore_index=True)\n",
    "\n",
    "actual_mean = np.mean([p_density(x) * x**2 for x in (np.linspace(-3, 3, 10_000))])\n",
    "\n",
    "sns.barplot(data=data, x=\"n_samples\", y=\"estimate\", hue=\"proposal\", errorbar=\"sd\")\n",
    "plt.axhline(actual_mean, color=\"black\", linestyle=\"--\", label=\"Actual\")\n",
    "plt.xlabel(\"Number of samples\")\n",
    "plt.ylabel(\"$E[x^2]$\")\n",
    "\n",
    "plt.savefig(\"figs/e1_and_3.png\")\n",
    "plt.clf()\n",
    "\n",
    "print(data.groupby([\"proposal\", \"n_samples\"]).mean())\n",
    "print(data.groupby([\"proposal\", \"n_samples\"]).std())\n",
    "print(\"Actual:\", actual_mean)\n",
    "\n",
    "print(\"IS: \", importance_sample(scipy.stats.norm))"
   ]
  },
  {
   "cell_type": "code",
   "execution_count": null,
   "metadata": {},
   "outputs": [],
   "source": []
  }
 ],
 "metadata": {
  "colab": {
   "provenance": []
  },
  "kernelspec": {
   "display_name": "Python 3 (ipykernel)",
   "language": "python",
   "name": "python3"
  },
  "language_info": {
   "codemirror_mode": {
    "name": "ipython",
    "version": 3
   },
   "file_extension": ".py",
   "mimetype": "text/x-python",
   "name": "python",
   "nbconvert_exporter": "python",
   "pygments_lexer": "ipython3",
   "version": "3.10.13"
  }
 },
 "nbformat": 4,
 "nbformat_minor": 4
}
