{
  "nbformat": 4,
  "nbformat_minor": 0,
  "metadata": {
    "colab": {
      "provenance": []
    },
    "kernelspec": {
      "name": "python3",
      "display_name": "Python 3"
    },
    "language_info": {
      "name": "python"
    }
  },
  "cells": [
    {
      "cell_type": "code",
      "source": [
        "!pip3 install pyro-ppl\n",
        "!pip3 install sklearn\n",
        "!pip3 install arviz\n",
        "!pip3 install numpy\n",
        "!pip3 install matplotlib"
      ],
      "metadata": {
        "id": "ZsCzT0N_P-Ne"
      },
      "execution_count": null,
      "outputs": []
    },
    {
      "cell_type": "code",
      "execution_count": null,
      "metadata": {
        "id": "OgyIY4sQP3HO"
      },
      "outputs": [],
      "source": [
        "import pyro\n",
        "import torch\n",
        "import pyro.distributions as pdist\n",
        "import torch.distributions as tdist\n",
        "import arviz\n",
        "import numpy as np"
      ]
    },
    {
      "cell_type": "code",
      "source": [
        "# We need constraints to specify the integration interval\n",
        "from torch.distributions import constraints\n",
        "\n",
        "\n",
        "class MyDensity(pdist.TorchDistribution):\n",
        "    # The integration interval\n",
        "    support = None # TODO add constraints for support\n",
        "    # Constraint for the starting value used in the sampling\n",
        "    # (should be within integration interval)\n",
        "    arg_constraints = {\"start\": support}\n",
        "\n",
        "    def __init__(self, start=torch.tensor(0.0)):\n",
        "      # start = starting value for HMC sampling, default 0\n",
        "      self.start = start\n",
        "      super(pdist.TorchDistribution, self).__init__()\n",
        "\n",
        "    def sample(self, sample_shape=torch.Size()):\n",
        "        # This is only used to start the HMC sampling\n",
        "        # It simply returns the starting value for the sampling\n",
        "        return self.start\n",
        "\n",
        "    def log_prob(self, x):\n",
        "        # Return log of the (unnormalized) density\n",
        "        return # TODO: add log prob\n"
      ],
      "metadata": {
        "id": "WNZIrtQjQH9J"
      },
      "execution_count": null,
      "outputs": []
    },
    {
      "cell_type": "code",
      "source": [
        "# Specify the model, which in our case is just our MyDensity distribution\n",
        "\n",
        "def model():\n",
        "    pass # TODO"
      ],
      "metadata": {
        "id": "DajD-BVQQbtO"
      },
      "execution_count": null,
      "outputs": []
    },
    {
      "cell_type": "code",
      "source": [
        "# Run HMC / NUTS\n",
        "nuts_kernel = None # TODO add sampling kernel\n",
        "\n",
        "mcmc= None # TODO add infer object\n",
        "mcmc.run()"
      ],
      "metadata": {
        "id": "B8J_f9oXQhIR"
      },
      "execution_count": null,
      "outputs": []
    },
    {
      "cell_type": "code",
      "source": [
        "# TODO get the samples from the MCMC object\n",
        "\n",
        "samples = None\n",
        "\n",
        "# calculate E[x**2]"
      ],
      "metadata": {
        "id": "WnMdA0BXQtld"
      },
      "execution_count": null,
      "outputs": []
    },
    {
      "cell_type": "code",
      "source": [
        "# TODO use arviz to summarize and investigate: plot\n",
        "data = arviz.from_pyro(mcmc)\n",
        "\n",
        "summary = None"
      ],
      "metadata": {
        "id": "6TSB51sLQ4eb"
      },
      "execution_count": null,
      "outputs": []
    },
    {
      "cell_type": "code",
      "source": [
        "# HMC / NUTS\n",
        "def HMC(n_samples):\n",
        "    # Run HMC / NUTS\n",
        "    nuts_kernel=None\n",
        "    mcmc= None\n",
        "    # Do something with the mcmc object here ...\n",
        "\n",
        "    # TODO Get the samples\n",
        "    samples = None\n",
        "\n",
        "    # TODO: Calculate E(x^2)\n",
        "    expected_val = None\n",
        "    return expected_val"
      ],
      "metadata": {
        "id": "H4Igci_SRLD3"
      },
      "execution_count": null,
      "outputs": []
    },
    {
      "cell_type": "code",
      "source": [
        "# TODO make figures w.r.t. different sample sizes, samplers, etc."
      ],
      "metadata": {
        "id": "Q4Dl2FmrRuWZ"
      },
      "execution_count": null,
      "outputs": []
    }
  ]
}